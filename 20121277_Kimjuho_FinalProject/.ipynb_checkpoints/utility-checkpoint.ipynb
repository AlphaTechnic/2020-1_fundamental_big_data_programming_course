{
 "cells": [
  {
   "cell_type": "code",
   "execution_count": 19,
   "metadata": {},
   "outputs": [
    {
     "name": "stdout",
     "output_type": "stream",
     "text": [
      "Overwriting Utility.py\n"
     ]
    }
   ],
   "source": [
    "%%writefile Utility.py\n",
    "\n",
    "import pandas as pd\n",
    "import re\n",
    "\n",
    "def build_DataFrame_from_text(path):\n",
    "# path 에 있는 데이터를 가져와 DataFrame을 생성하여 돌려준다.\n",
    "\n",
    "    data_list = []    \n",
    "\n",
    "    # 해당 파일을 읽어오는 것을 실패했을 경우에 대한 예외처리를 해준다.\n",
    "    try:\n",
    "        with open(path, 'rt' ,encoding = 'utf-8') as fp:\n",
    "\n",
    "            # cafehero_sales.txt 파일의 첫번째 line이 DataFrame의 column이 될 것이다.\n",
    "            column_name = fp.readline().split()\n",
    "\n",
    "            while True:\n",
    "                line = fp.readline()\n",
    "                if line == '':\n",
    "                    break\n",
    "\n",
    "                # 텍스트파일 속 원본 데이터가 1,000,000 처럼 쉼표가 있어서, 이를 제거하는 작업을 정규표현식을 이용해 해주며,\n",
    "                # refined된 data를 split으로 리스트화 한다.\n",
    "                line = re.sub(r\"[,]\", \"\", line)\n",
    "                data = line.split()\n",
    "\n",
    "                # 각 line별 첫번 째 단어인 '2016-09' 같은 날짜는 DataFrame의 index의 역할을 할 것이므로, 문자열 형태로 그대로 담는다.\n",
    "                # 그 뒤에 오는 n번 째 단어들은 int의 형태로 바꿔 line_refined 리스트에 담고, \n",
    "                # 이 완성된 line_refined 리스트를 data_list에 담는다.\n",
    "                line_refined = []\n",
    "                for ind, content in enumerate(data):\n",
    "                    if ind == 0:\n",
    "                        line_refined.append(content)\n",
    "                    else:\n",
    "                        line_refined.append(int(content))\n",
    "\n",
    "                data_list.append(line_refined)\n",
    "        \n",
    "        # data_list의 원소로 있는 line_refined 리스트의 첫 번째원소(=날짜)가 DataFrame의 index가 된다.\n",
    "        ind = [data_list[i][0] for i in range(len(data_list))]\n",
    "        cafehero = pd.DataFrame(data = data_list, columns = column_name, index = ind)\n",
    "\n",
    "        print(\"해당 파일의 Data를 정상적으로 가져왔습니다.\")\n",
    "        \n",
    "        return cafehero\n",
    "\n",
    "    except FileNotFoundError:\n",
    "        print(\"파일 읽기 Error!! 해당 파일을 찾을 수 없습니다.\")\n",
    "        \n",
    "        return None\n",
    "\n",
    "def add_TextData_to_DataFrame(path, DataFrame, column_name):\n",
    "    with open(path) as fp:\n",
    "        data_list = list(map(float, fp.readlines()))\n",
    "        DataFrame[column_name] = data_list\n",
    "    \n",
    "    return DataFrame"
   ]
  }
 ],
 "metadata": {
  "kernelspec": {
   "display_name": "Python 3",
   "language": "python",
   "name": "python3"
  },
  "language_info": {
   "codemirror_mode": {
    "name": "ipython",
    "version": 3
   },
   "file_extension": ".py",
   "mimetype": "text/x-python",
   "name": "python",
   "nbconvert_exporter": "python",
   "pygments_lexer": "ipython3",
   "version": "3.5.4"
  }
 },
 "nbformat": 4,
 "nbformat_minor": 4
}
