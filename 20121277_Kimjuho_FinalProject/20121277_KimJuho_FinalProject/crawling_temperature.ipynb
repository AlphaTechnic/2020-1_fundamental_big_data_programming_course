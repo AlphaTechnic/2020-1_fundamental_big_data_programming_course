{
 "cells": [
  {
   "cell_type": "code",
   "execution_count": 1,
   "metadata": {},
   "outputs": [
    {
     "name": "stdout",
     "output_type": "stream",
     "text": [
      "기상청에서 날씨정보를 가져오는 중입니다. 잠시 기다려주세요.\n",
      "크롤링 중..\n",
      "2016-06 ~ 2018-10 의 월평균 기온 정보가 해당 디렉토리에 text파일로 성공적으로 저장되었습니다.\n",
      "크롤링에 소요된 시간은 8.26초 입니다.\n",
      "\n",
      "\n",
      "-----------------------------------------------------------------------------\n",
      "해당 웹페이지에서 월평균 기온의 데이터는 아래의 형태로 저장되어 있습니다.\n",
      "<tr>\n",
      "<td scope=\"row\">평균</td>\n",
      "<td>-4.0</td>\n",
      "<td>-1.6</td>\n",
      "<td>8.1</td>\n",
      "<td>13.0</td>\n",
      "<td>18.2</td>\n",
      "<td>23.1</td>\n",
      "<td>27.8</td>\n",
      "<td>28.8</td>\n",
      "<td>21.5</td>\n",
      "<td>13.1</td>\n",
      "<td>7.8</td>\n",
      "<td>-0.6</td>\n",
      "</tr>\n"
     ]
    }
   ],
   "source": [
    "%%writefile crawling_temparature.py\n",
    "\n",
    "from bs4 import BeautifulSoup as bs\n",
    "from pprint import pprint\n",
    "import requests\n",
    "import re\n",
    "import time\n",
    "# 기상청에서 월 평균 기온을 가져온다.\n",
    "\n",
    "try:\n",
    "    print(\"기상청에서 날씨정보를 가져오는 중입니다. 잠시 기다려주세요.\")\n",
    "    print(\"크롤링 중..\")\n",
    "    start = time.time()\n",
    "    with open('C:\\\\Users\\\\juho3\\\\Desktop\\\\Python\\\\Fundamental_BigData_programming_course\\\\20121277_김주호_FinalProject\\\\Data\\\\averages_monthly_temperature.txt', 'wt') as fp:\n",
    "        for year in range(2016, 2019):\n",
    "            # 입력한 url의 웹페이지의 소스코드를 가져온다. 2016년도, 2017년도, 2018년도의 월평균 기온 정보를 가져온다.\n",
    "            html = requests.get(\"https://www.weather.go.kr/weather/climate/past_table.jsp?stn=108&yy=\" + str(year) + \"&obs=07&x=29&y=5\")\n",
    "\n",
    "            # 소스코드를 tree구조로 parsing한다.\n",
    "            soup = bs(html.text, 'html.parser')\n",
    "\n",
    "            # findAll 함수를 사용하여, 'tr' 태그명의 data에 접근한다.\n",
    "            data1 = soup.findAll('tr')\n",
    "\n",
    "            # 정규표현식을 이용하여, 원하는 정보를 추출한다. 원하는 정보는 data[-1]에 있다.\n",
    "            pattern = re.compile(\"(?<=<td>).+(?=<\\/td>)\")\n",
    "            temperatures = pattern.findall(str(data1[-1]))\n",
    "\n",
    "            # 2016년은 6월달부터의 정보를 text 파일에 입력,\n",
    "            # 2017년은 모든 달의 정보를 text 파일에 입력,\n",
    "            # 2018년은 10월달까지의 정보를 text파일에 입력\n",
    "            if year == 2016:\n",
    "                fp.write('\\n'.join(temperatures[5:]))\n",
    "                fp.write(\"\\n\")\n",
    "            elif year == 2017:\n",
    "                fp.write('\\n'.join(temperatures))\n",
    "                fp.write(\"\\n\")\n",
    "            else:\n",
    "                fp.write('\\n'.join(temperatures[:10]))       \n",
    "                \n",
    "    print(\"2016-06 ~ 2018-10 의 월평균 기온 정보가 해당 디렉토리에 text파일로 성공적으로 저장되었습니다.\")\n",
    "    end = time.time()\n",
    "    \n",
    "    print(\"크롤링에 소요된 시간은 %.2f초 입니다.\\n\\n\" %(end- start))\n",
    "    \n",
    "except FileNotFoundError:\n",
    "    print(\"파일 쓰기 Error!! 해당 디렉토리를 찾을 수 없습니다.\")\n",
    "\n",
    "if __name__ == \"__main__\":\n",
    "    print(\"-----------------------------------------------------------------------------\")\n",
    "    print(\"해당 웹페이지에서 월평균 기온의 데이터는 아래의 형태로 저장되어 있습니다.\")\n",
    "    pprint(data1[-1])"
   ]
  }
 ],
 "metadata": {
  "kernelspec": {
   "display_name": "Python 3",
   "language": "python",
   "name": "python3"
  },
  "language_info": {
   "codemirror_mode": {
    "name": "ipython",
    "version": 3
   },
   "file_extension": ".py",
   "mimetype": "text/x-python",
   "name": "python",
   "nbconvert_exporter": "python",
   "pygments_lexer": "ipython3",
   "version": "3.5.4"
  }
 },
 "nbformat": 4,
 "nbformat_minor": 4
}
