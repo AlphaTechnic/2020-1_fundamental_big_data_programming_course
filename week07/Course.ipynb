{
 "cells": [
  {
   "cell_type": "code",
   "execution_count": 7,
   "metadata": {},
   "outputs": [
    {
     "name": "stdout",
     "output_type": "stream",
     "text": [
      "class A 생성자 호출\n",
      "class B 생성자 호출\n",
      "hello world\n"
     ]
    },
    {
     "data": {
      "text/plain": [
       "(__main__.B, __main__.A, object)"
      ]
     },
     "execution_count": 7,
     "metadata": {},
     "output_type": "execute_result"
    }
   ],
   "source": [
    "class A:\n",
    "    def __init__(self):\n",
    "        print (\"class A 생성자 호출\")\n",
    "    def sayhello(self):\n",
    "        print(\"hello world\")\n",
    "\n",
    "class B(A):\n",
    "    def __init__(self):\n",
    "        super().__init__()\n",
    "        print (\"class B 생성자 호출\")\n",
    "\n",
    "kim = B()\n",
    "kim.sayhello()\n",
    "B.__mro__"
   ]
  },
  {
   "cell_type": "code",
   "execution_count": 16,
   "metadata": {},
   "outputs": [
    {
     "data": {
      "text/plain": [
       "7"
      ]
     },
     "execution_count": 16,
     "metadata": {},
     "output_type": "execute_result"
    }
   ],
   "source": [
    "class Cal:\n",
    "#     @staticmethod\n",
    "    def plus(a,b):\n",
    "        return a+b\n",
    "    \n",
    "Cal.plus(3,4)\n",
    "\n"
   ]
  },
  {
   "cell_type": "code",
   "execution_count": 12,
   "metadata": {},
   "outputs": [
    {
     "data": {
      "text/plain": [
       "7"
      ]
     },
     "execution_count": 12,
     "metadata": {},
     "output_type": "execute_result"
    }
   ],
   "source": [
    "class Cal:\n",
    "#     @classmethod\n",
    "    def plus(cls, a, b):\n",
    "        return a+b\n",
    "    \n",
    "Cal.plus(3,4)"
   ]
  },
  {
   "cell_type": "code",
   "execution_count": 13,
   "metadata": {},
   "outputs": [],
   "source": [
    "a = Cal()"
   ]
  },
  {
   "cell_type": "code",
   "execution_count": 14,
   "metadata": {},
   "outputs": [
    {
     "data": {
      "text/plain": [
       "7"
      ]
     },
     "execution_count": 14,
     "metadata": {},
     "output_type": "execute_result"
    }
   ],
   "source": [
    "a.plus(3,4)"
   ]
  },
  {
   "cell_type": "code",
   "execution_count": 20,
   "metadata": {},
   "outputs": [
    {
     "name": "stdout",
     "output_type": "stream",
     "text": [
      "2011년 8월 14일 입니다.\n",
      "<__main__.Date object at 0x0000025AD6B24EF0>\n"
     ]
    }
   ],
   "source": [
    "import time\n",
    "\n",
    "class Date(object):\n",
    "    def __init__ (self, year, month, day):\n",
    "        self.year = year\n",
    "        self.month = month\n",
    "        self.day = day\n",
    "        \n",
    "    @staticmethod\n",
    "    def now():\n",
    "        t = time.localtime()\n",
    "        return Date(t.tm_year, t.tm_mon, t.tm_mday)\n",
    "\n",
    "a = Date(2011, 8, 14)\n",
    "print(\"{}년 {}월 {}일 입니다.\".format(a.year, a.month, a.day))\n",
    "# b = Date.now()\n",
    "# print(\"{}년 {}월 {}일 입니다.\".format(b.year, b.month, b.day))\n",
    "\n",
    "print(a.now())"
   ]
  },
  {
   "cell_type": "code",
   "execution_count": 23,
   "metadata": {},
   "outputs": [
    {
     "name": "stdout",
     "output_type": "stream",
     "text": [
      "yahoo\n"
     ]
    }
   ],
   "source": [
    "class A:\n",
    "    @staticmethod\n",
    "    def ppp():\n",
    "        print(\"yahoo\")\n",
    "\n",
    "a = A()\n",
    "a.ppp()"
   ]
  },
  {
   "cell_type": "code",
   "execution_count": 3,
   "metadata": {},
   "outputs": [
    {
     "name": "stdout",
     "output_type": "stream",
     "text": [
      "2020 5 4\n"
     ]
    }
   ],
   "source": [
    "import time\n",
    "\n",
    "class Date:\n",
    "    def __init__(self, year, month, day):\n",
    "        self.year = year\n",
    "        self.month = month\n",
    "        self.day = day\n",
    "        \n",
    "    def now():\n",
    "        t = time.localtime()\n",
    "        return Date(t.tm_year, t.tm_mon, t.tm_mday)\n",
    "\n",
    "a = Date.now()\n",
    "print(a.year, a.month, a.day)"
   ]
  },
  {
   "cell_type": "code",
   "execution_count": 37,
   "metadata": {},
   "outputs": [
    {
     "name": "stdout",
     "output_type": "stream",
     "text": [
      "date: 2019, 9, 28\n",
      "date: today\n",
      "date: 2018, 12, 31\n"
     ]
    }
   ],
   "source": [
    "import datetime as dt\n",
    "\n",
    "class Date:\n",
    "    def __init__(self, year_mon_day):\n",
    "        self.date = 'date: '+ year_mon_day\n",
    "    \n",
    "    def show(self):\n",
    "        print(self.date)\n",
    "    \n",
    "    @staticmethod\n",
    "    def now():\n",
    "        return Date(\"today\")\n",
    "    \n",
    "    @staticmethod\n",
    "    def yesterday(year_mon_day):\n",
    "        year, mon, day = map(int, year_mon_day.split(','))\n",
    "        \n",
    "        yesterday = dt.datetime(year, mon, day) - dt.timedelta(days = 1)  #\n",
    "        yesterday_str = str(yesterday.year)+ ', ' + str(yesterday.month)+ ', ' +str(yesterday.day)\n",
    "        \n",
    "        return Date(yesterday_str)\n",
    "    \n",
    "a = Date(\"2019, 9, 28\")\n",
    "a.show()\n",
    "b = Date.now()\n",
    "b.show()\n",
    "c = Date.yesterday(\"2019, 1, 1\")\n",
    "c.show()"
   ]
  },
  {
   "cell_type": "code",
   "execution_count": 2,
   "metadata": {
    "scrolled": true
   },
   "outputs": [
    {
     "data": {
      "text/plain": [
       "datetime.datetime(2019, 9, 28, 0, 0)"
      ]
     },
     "execution_count": 2,
     "metadata": {},
     "output_type": "execute_result"
    }
   ],
   "source": [
    "import datetime\n",
    "\n",
    "datetime.datetime.strptime(\"2019, 9, 28\", \"%Y, %m, %d\")"
   ]
  },
  {
   "cell_type": "code",
   "execution_count": 4,
   "metadata": {},
   "outputs": [
    {
     "data": {
      "text/plain": [
       "[2019, 9, 28]"
      ]
     },
     "execution_count": 4,
     "metadata": {},
     "output_type": "execute_result"
    }
   ],
   "source": [
    "string = \"2019, 9, 28\"\n",
    "list(map(int, string.split(',')))"
   ]
  },
  {
   "cell_type": "code",
   "execution_count": 29,
   "metadata": {},
   "outputs": [
    {
     "data": {
      "text/plain": [
       "datetime.datetime(2019, 9, 19, 0, 0)"
      ]
     },
     "execution_count": 29,
     "metadata": {},
     "output_type": "execute_result"
    }
   ],
   "source": [
    "import datetime as dt\n",
    "\n",
    "dt.datetime(2019, 9, 19)\n",
    "# yesterday = dt.datetime(2019, 9, 19) - dt.timedelta(days = 1)\n",
    "# print('date :'+ str(yesterday.year)+', '+ str(yesterday.month)+', '+str(yesterday.day)) "
   ]
  },
  {
   "cell_type": "code",
   "execution_count": 19,
   "metadata": {
    "scrolled": true
   },
   "outputs": [
    {
     "data": {
      "text/plain": [
       "'12'"
      ]
     },
     "execution_count": 19,
     "metadata": {},
     "output_type": "execute_result"
    }
   ],
   "source": [
    "str(12)"
   ]
  },
  {
   "cell_type": "code",
   "execution_count": 20,
   "metadata": {},
   "outputs": [
    {
     "data": {
      "text/plain": [
       "datetime.timedelta(2)"
      ]
     },
     "execution_count": 20,
     "metadata": {},
     "output_type": "execute_result"
    }
   ],
   "source": [
    "import datetime as dt\n",
    "\n",
    "dt1 = dt.datetime(2016, 5, 2)\n",
    "dt2 = dt.datetime(2016, 4, 30)\n",
    "\n",
    "# yesterday = dt2 - dt.timedelta(days = 1)\n",
    "dt1 - dt2"
   ]
  },
  {
   "cell_type": "code",
   "execution_count": 39,
   "metadata": {},
   "outputs": [
    {
     "data": {
      "text/plain": [
       "datetime.datetime(2020, 4, 30, 0, 0)"
      ]
     },
     "execution_count": 39,
     "metadata": {},
     "output_type": "execute_result"
    }
   ],
   "source": [
    "import datetime as dt\n",
    "\n",
    "dt1 = dt.datetime(2020, 5, 2)\n",
    "\n",
    "dt1 - dt.timedelta(days = 2)"
   ]
  },
  {
   "cell_type": "code",
   "execution_count": 42,
   "metadata": {},
   "outputs": [
    {
     "name": "stdout",
     "output_type": "stream",
     "text": [
      "date: 2019, 1, 31\n"
     ]
    }
   ],
   "source": [
    "import datetime as dt\n",
    "\n",
    "class Date:\n",
    "    def __init__(self, year_mon_day):\n",
    "        self.date = 'date: '+ year_mon_day\n",
    "    \n",
    "    def show(self):\n",
    "        print(self.date)\n",
    "    \n",
    "    @staticmethod\n",
    "    def now():\n",
    "        return Date(\"today\")\n",
    "    \n",
    "    @staticmethod\n",
    "    def yesterday(year_mon_day):\n",
    "        year, mon, day = map(int, year_mon_day.split(','))\n",
    "        \n",
    "        yesterday = dt.datetime(year, mon, day) - dt.timedelta(days = 1)\n",
    "        yesterday_str = str(yesterday.year)+ ', ' + str(yesterday.month)+ ', ' +str(yesterday.day)\n",
    "        \n",
    "        return Date(yesterday_str)\n",
    "    \n",
    "\n",
    "\n",
    "c = Date.yesterday(\"2019, 2, 1\")\n",
    "print(c.date)"
   ]
  },
  {
   "cell_type": "code",
   "execution_count": 48,
   "metadata": {},
   "outputs": [
    {
     "data": {
      "text/plain": [
       "datetime.datetime(2020, 5, 2, 0, 0, 2)"
      ]
     },
     "execution_count": 48,
     "metadata": {},
     "output_type": "execute_result"
    }
   ],
   "source": [
    "import datetime as dt\n",
    "\n",
    "dt1 = dt.datetime(2020, 5, 2)\n",
    "\n",
    "dt1 + dt.timedelta(seconds= 2)"
   ]
  }
 ],
 "metadata": {
  "kernelspec": {
   "display_name": "Python 3",
   "language": "python",
   "name": "python3"
  },
  "language_info": {
   "codemirror_mode": {
    "name": "ipython",
    "version": 3
   },
   "file_extension": ".py",
   "mimetype": "text/x-python",
   "name": "python",
   "nbconvert_exporter": "python",
   "pygments_lexer": "ipython3",
   "version": "3.5.4"
  }
 },
 "nbformat": 4,
 "nbformat_minor": 4
}
