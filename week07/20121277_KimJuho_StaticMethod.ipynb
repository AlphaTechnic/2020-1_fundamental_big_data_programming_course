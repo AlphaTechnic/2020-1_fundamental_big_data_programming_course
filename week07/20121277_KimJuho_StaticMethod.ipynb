{
 "cells": [
  {
   "cell_type": "code",
   "execution_count": 1,
   "metadata": {},
   "outputs": [
    {
     "name": "stdout",
     "output_type": "stream",
     "text": [
      "Writing Dateclass.py\n"
     ]
    }
   ],
   "source": [
    "%%writefile Dateclass.py\n",
    "\n",
    "import datetime as dt\n",
    "\n",
    "class Date:\n",
    "    def __init__(self, year_mon_day):\n",
    "        self.date = 'date: '+ year_mon_day\n",
    "    \n",
    "    def show(self):\n",
    "        print(self.date)\n",
    "    \n",
    "    @staticmethod\n",
    "    def now():\n",
    "        return Date(\"today\")\n",
    "    \n",
    "    @staticmethod\n",
    "    def yesterday(year_mon_day):\n",
    "        year, mon, day = map(int, year_mon_day.split(','))\n",
    "        \n",
    "        yesterday = dt.datetime(year, mon, day) - dt.timedelta(days = 1)\n",
    "        yesterday_str = str(yesterday.year)+ ', ' + str(yesterday.month)+ ', ' +str(yesterday.day)\n",
    "        \n",
    "        return Date(yesterday_str)"
   ]
  },
  {
   "cell_type": "code",
   "execution_count": 4,
   "metadata": {},
   "outputs": [
    {
     "name": "stdout",
     "output_type": "stream",
     "text": [
      "date: 2019, 9, 28\n",
      "date: today\n",
      "date: 2019, 1, 31\n"
     ]
    }
   ],
   "source": [
    "%run Dateclass.py\n",
    "\n",
    "a = Date(\"2019, 9, 28\")\n",
    "a.show()\n",
    "b = Date.now()\n",
    "print(b.date)\n",
    "c = Date.yesterday(\"2019, 2, 1\")\n",
    "print(c.date)"
   ]
  }
 ],
 "metadata": {
  "kernelspec": {
   "display_name": "Python 3",
   "language": "python",
   "name": "python3"
  },
  "language_info": {
   "codemirror_mode": {
    "name": "ipython",
    "version": 3
   },
   "file_extension": ".py",
   "mimetype": "text/x-python",
   "name": "python",
   "nbconvert_exporter": "python",
   "pygments_lexer": "ipython3",
   "version": "3.5.4"
  }
 },
 "nbformat": 4,
 "nbformat_minor": 4
}
