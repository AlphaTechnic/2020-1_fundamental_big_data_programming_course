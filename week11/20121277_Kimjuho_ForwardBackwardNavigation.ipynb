{
 "cells": [
  {
   "cell_type": "code",
   "execution_count": 1,
   "metadata": {},
   "outputs": [
    {
     "name": "stdout",
     "output_type": "stream",
     "text": [
      "Seo Maria's Hompage\n"
     ]
    }
   ],
   "source": [
    "import re\n",
    "\n",
    "data = \"\"\"\n",
    "<HEAD>\n",
    "<TITLE>Seo Maria's Hompage</TITLE>\n",
    "<\\HEAD>\n",
    "\"\"\"\n",
    "\n",
    "pattern = re.compile('(?<=<[Tt][Ii][Tt][Ll][Ee]>).*(?=</[Tt][Ii][Tt][Ll][Ee]>)')\n",
    "ans = pattern.search(data)\n",
    "print(ans.group())"
   ]
  },
  {
   "cell_type": "code",
   "execution_count": 33,
   "metadata": {},
   "outputs": [
    {
     "name": "stdout",
     "output_type": "stream",
     "text": [
      "foo.bar, sendmail.cf, checksum.exe"
     ]
    }
   ],
   "source": [
    "import re\n",
    "\n",
    "data = \"\"\"\n",
    "foo.bar, autoexec.bat, sendmail.cf, checksum.exe\n",
    "\"\"\"\n",
    "\n",
    "# 1. 확장자가 bat인 파일 제외\n",
    "pattern = re.compile('[a-zA-Z0-9]+[.](?!bat)[a-zA-Z0-9]+')\n",
    "result = pattern.findall(data)\n",
    "for ind, content in enumerate(result):\n",
    "    print(content, end = '')\n",
    "    if ind == len(result) -1:\n",
    "        break\n",
    "    print(', ', end = '')\n",
    "    "
   ]
  },
  {
   "cell_type": "code",
   "execution_count": 34,
   "metadata": {},
   "outputs": [
    {
     "name": "stdout",
     "output_type": "stream",
     "text": [
      "foo.bar, sendmail.cf"
     ]
    }
   ],
   "source": [
    "# 2. 확장자가 bat 또는 exe인 파일 제외\n",
    "pattern = re.compile('[a-zA-Z0-9]+[.](?!bat|exe)[a-zA-Z0-9]+')\n",
    "result = pattern.findall(data)\n",
    "for ind, content in enumerate(result):\n",
    "    print(content, end = '')\n",
    "    if ind == len(result) -1:\n",
    "        break\n",
    "    print(', ', end = '')"
   ]
  }
 ],
 "metadata": {
  "kernelspec": {
   "display_name": "Python 3",
   "language": "python",
   "name": "python3"
  },
  "language_info": {
   "codemirror_mode": {
    "name": "ipython",
    "version": 3
   },
   "file_extension": ".py",
   "mimetype": "text/x-python",
   "name": "python",
   "nbconvert_exporter": "python",
   "pygments_lexer": "ipython3",
   "version": "3.5.4"
  }
 },
 "nbformat": 4,
 "nbformat_minor": 4
}
