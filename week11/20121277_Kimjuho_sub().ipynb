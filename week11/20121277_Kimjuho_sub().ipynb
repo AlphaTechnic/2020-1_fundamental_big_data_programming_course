{
 "cells": [
  {
   "cell_type": "code",
   "execution_count": 9,
   "metadata": {},
   "outputs": [
    {
     "name": "stdout",
     "output_type": "stream",
     "text": [
      "Please, square the following numbers, 9 49 121 169 289 361\n"
     ]
    }
   ],
   "source": [
    "import re\n",
    "\n",
    "def square(num):\n",
    "    val_str = re.sub(r\"\\.$\", \"\", num.group())   # 마지막에 '19.'이 들어올 경우 마침표 제거\n",
    "    val_int = int(val_str)\n",
    "    val_square = val_int**2\n",
    "    return str(val_square)\n",
    "\n",
    "line = \"Please, square the following numbers, 3 7 11 13 17 19.\"\n",
    "p = re.compile(r'\\d+\\.?')\n",
    "print(p.sub(square, line))"
   ]
  }
 ],
 "metadata": {
  "kernelspec": {
   "display_name": "Python 3",
   "language": "python",
   "name": "python3"
  },
  "language_info": {
   "codemirror_mode": {
    "name": "ipython",
    "version": 3
   },
   "file_extension": ".py",
   "mimetype": "text/x-python",
   "name": "python",
   "nbconvert_exporter": "python",
   "pygments_lexer": "ipython3",
   "version": "3.5.4"
  }
 },
 "nbformat": 4,
 "nbformat_minor": 4
}
