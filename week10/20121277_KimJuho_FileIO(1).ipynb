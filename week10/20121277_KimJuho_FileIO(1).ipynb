{
 "cells": [
  {
   "cell_type": "code",
   "execution_count": 3,
   "metadata": {},
   "outputs": [
    {
     "name": "stdout",
     "output_type": "stream",
     "text": [
      "{'3': 'John Joe Tom', '1': 'Henry Jenny Jessica Erin Tim', '4': 'Cindy Stella Bill', '2': 'Alice Paul David Bob'}\n"
     ]
    }
   ],
   "source": [
    "f = open(\"C:\\\\Users\\\\juho3\\\\Desktop\\\\Python\\\\Fundamental_BigData_programming_course\\\\week10\\\\ban_stu.txt\", \"wt\")\n",
    "f.write(\"2 Alice Paul David Bob\\n\")\n",
    "f.write(\"4 Cindy Stella Bill\\n\")\n",
    "f.write(\"1 Henry Jenny Jessica Erin Tim\\n\")\n",
    "f.write(\"3 John Joe Tom\")\n",
    "\n",
    "f = open(\"C:\\\\Users\\\\juho3\\\\Desktop\\\\Python\\\\Fundamental_BigData_programming_course\\\\week10\\\\ban_stu.txt\", \"rt\")\n",
    "\n",
    "dic = {}\n",
    "for _ in range(4):\n",
    "    key = f.read(1)\n",
    "#     f.read(1)                      # line에서 숫자 다음의 띄어쓰기를 버린다\n",
    "    \n",
    "    val = f.readline().strip() # line의 남은 문자열을 value로 하되, 끝에 달려있는 개행문자 제거 (rstrip 함수)\n",
    "    dic[key] = val\n",
    "\n",
    "f.close()\n",
    "print(dic)"
   ]
  }
 ],
 "metadata": {
  "kernelspec": {
   "display_name": "Python 3",
   "language": "python",
   "name": "python3"
  },
  "language_info": {
   "codemirror_mode": {
    "name": "ipython",
    "version": 3
   },
   "file_extension": ".py",
   "mimetype": "text/x-python",
   "name": "python",
   "nbconvert_exporter": "python",
   "pygments_lexer": "ipython3",
   "version": "3.5.4"
  }
 },
 "nbformat": 4,
 "nbformat_minor": 4
}
