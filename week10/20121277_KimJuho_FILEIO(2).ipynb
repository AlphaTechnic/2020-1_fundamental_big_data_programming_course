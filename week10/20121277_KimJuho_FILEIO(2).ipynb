{
 "cells": [
  {
   "cell_type": "code",
   "execution_count": 1,
   "metadata": {},
   "outputs": [
    {
     "name": "stdout",
     "output_type": "stream",
     "text": [
      "3\n",
      "3.14\n",
      "\"3.14\"\n"
     ]
    }
   ],
   "source": [
    "with open('information.txt', 'wt') as f:\n",
    "    f.write(\"3\\n\")\n",
    "    f.write(\"3.14\\n\")\n",
    "    f.write(\"\\\"3.14\\\"\\n\")\n",
    "\n",
    "with open('information.txt', 'rt') as f:\n",
    "    for _ in range(3):\n",
    "        line = f.readline()\n",
    "        line = line.strip()\n",
    "        print(line)"
   ]
  },
  {
   "cell_type": "code",
   "execution_count": 2,
   "metadata": {},
   "outputs": [
    {
     "name": "stdout",
     "output_type": "stream",
     "text": [
      "3\n",
      "3.14\n",
      "\"3.14\"\n"
     ]
    }
   ],
   "source": [
    "import pickle\n",
    "with open('information.dat', 'wb') as f:\n",
    "    pickle.dump(\"3\\n\", f)\n",
    "    pickle.dump(\"3.14\\n\", f)\n",
    "    pickle.dump(\"\\\"3.14\\\"\\n\", f)\n",
    "\n",
    "with open('information.dat', 'rb') as f:\n",
    "    for _ in range(3):\n",
    "        line = pickle.load(f)\n",
    "        line = line.strip()\n",
    "        print(line)"
   ]
  }
 ],
 "metadata": {
  "kernelspec": {
   "display_name": "Python 3",
   "language": "python",
   "name": "python3"
  },
  "language_info": {
   "codemirror_mode": {
    "name": "ipython",
    "version": 3
   },
   "file_extension": ".py",
   "mimetype": "text/x-python",
   "name": "python",
   "nbconvert_exporter": "python",
   "pygments_lexer": "ipython3",
   "version": "3.5.4"
  }
 },
 "nbformat": 4,
 "nbformat_minor": 4
}
