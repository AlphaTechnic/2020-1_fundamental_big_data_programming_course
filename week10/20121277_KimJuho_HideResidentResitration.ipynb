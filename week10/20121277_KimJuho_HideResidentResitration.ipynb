{
 "cells": [
  {
   "cell_type": "code",
   "execution_count": 23,
   "metadata": {},
   "outputs": [
    {
     "name": "stdout",
     "output_type": "stream",
     "text": [
      "park sunje 남 890901-*******\n",
      "kim sunhee 여 990103-*******\n"
     ]
    }
   ],
   "source": [
    "data = '''\n",
    "park sunje 890901-1074422\n",
    "kim sunhee 990103-2079912\n",
    "'''\n",
    "data_split = data.split()    # data_split의 연속된 3개의 요소들이 한 사람의 정보(first name, last name, 주민번호)를 나타낸다.\n",
    "\n",
    "gender = []                  # 3개씩 돌때마다 gender를 판단하여 gender리스트의 원소로 저장할 것이다.\n",
    "\n",
    "for index, data in enumerate(data_split):\n",
    "    if index%3 == 2:           # data들을 방문하다가 주민등록번호 data를 방문할 때,\n",
    "        if data[7]== '1':\n",
    "            gender.append('남')\n",
    "        elif data[7] == '2':\n",
    "            gender.append('여')\n",
    "        else:\n",
    "            gender.append('Wrong Data!')\n",
    "            \n",
    "for index, data in enumerate(data_split):   # 1. 주민등록번호 뒷자리를 가리고 2. 성별을 같이 출력해주기 위한 순회\n",
    "    if index%3 == 2:                        \n",
    "        ResidentRegNum_front = data.split('-')[0]\n",
    "        # 3개의 요소를 돌 때마다, gender리스트에 저장하였다. 역으로 data_split의 index를 이용해 해당 gender리스트의 index에 접근하려는 계산\n",
    "        gender_index = int((index - 2) / 3)       \n",
    "        print(gender[gender_index] + \" \" + ResidentRegNum_front + '-*******')\n",
    "    else:\n",
    "        print(data, end = ' ')\n",
    "            "
   ]
  },
  {
   "cell_type": "code",
   "execution_count": 14,
   "metadata": {
    "scrolled": true
   },
   "outputs": [
    {
     "name": "stdout",
     "output_type": "stream",
     "text": [
      "홍길동 남 560922-******* 02-705-8491\n",
      "홍길동 남 560922-******* 042-7052-8491\n",
      "김바한솔 남 911212-******* 042-705-8491\n",
      "김연찬 남 920922-******* 031-7054-8491\n",
      "김연희 여 920102-******* 031-7054-4566\n"
     ]
    }
   ],
   "source": [
    "f = open(\"C:\\\\Users\\\\juho3\\\\Desktop\\\\Python\\\\Fundamental_BigData_programming_course\\\\week10\\\\Testdata.txt\", \"wt\", encoding = 'utf-8')\n",
    "f.write(\"홍길동 560922-1089123 02-705-8491\\n\")\n",
    "f.write(\"홍길동 560922-1089123 042-7052-8491\\n\")\n",
    "f.write(\"김바한솔 911212-1089123 042-705-8491\\n\")\n",
    "f.write(\"김연찬 920922-1089123 031-7054-8491\\n\")\n",
    "f.write(\"김연희 920102-2155558 031-7054-4566\")\n",
    "\n",
    "f = open(\"C:\\\\Users\\\\juho3\\\\Desktop\\\\Python\\\\Fundamental_BigData_programming_course\\\\week10\\\\Testdata.txt\", \"rt\", encoding = 'utf-8')\n",
    "\n",
    "for line in f.readlines():\n",
    "\n",
    "    # line을 split하여 data 요소별로 접근\n",
    "    line_split = line.split()\n",
    "    \n",
    "    name = line_split[0] \n",
    "    ResidentRegNum = line_split[1]\n",
    "    PhoneNum = line_split[2] \n",
    "    \n",
    "    # 주민등록번호를 split하여 앞6자리와 뒤7자리에 각각 접근\n",
    "    ResidentRegNum_split = ResidentRegNum.split('-')\n",
    "\n",
    "    ResidentRegNum_front = ResidentRegNum_split[0]\n",
    "    ResidentRegNum_rear = ResidentRegNum_split[1]\n",
    "    \n",
    "    # 주민등록번호 뒷자리의 가장 처음 숫자에 접근\n",
    "    if ResidentRegNum_rear[0] == '1':\n",
    "        gender = '남'\n",
    "    elif ResidentRegNum_rear[0] == '2':\n",
    "        gender = '여'\n",
    "    else :\n",
    "        gender = \"Wrong Data!\"\n",
    "\n",
    "    # 주민등록번호 뒷자리가 *처리 된 새로운 주민등록번호_secret 생성    \n",
    "    ResidentRegNum_rear = \"*******\"\n",
    "    ResidentRegNum_secret = ResidentRegNum_front + '-' + ResidentRegNum_rear\n",
    "    \n",
    "    print(name, gender, ResidentRegNum_secret, PhoneNum)\n",
    "    \n",
    "f.close()"
   ]
  }
 ],
 "metadata": {
  "kernelspec": {
   "display_name": "Python 3",
   "language": "python",
   "name": "python3"
  },
  "language_info": {
   "codemirror_mode": {
    "name": "ipython",
    "version": 3
   },
   "file_extension": ".py",
   "mimetype": "text/x-python",
   "name": "python",
   "nbconvert_exporter": "python",
   "pygments_lexer": "ipython3",
   "version": "3.5.4"
  }
 },
 "nbformat": 4,
 "nbformat_minor": 4
}
