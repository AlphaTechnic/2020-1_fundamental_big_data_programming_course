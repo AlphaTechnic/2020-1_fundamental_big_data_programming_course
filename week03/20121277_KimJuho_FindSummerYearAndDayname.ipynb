{
 "cells": [
  {
   "cell_type": "code",
   "execution_count": 9,
   "metadata": {},
   "outputs": [
    {
     "name": "stdout",
     "output_type": "stream",
     "text": [
      "Writing get_day_name.py\n"
     ]
    }
   ],
   "source": [
    "%%writefile get_day_name.py\n",
    "\n",
    "def is_leap(year):\n",
    "    check = False\n",
    "    if year % 4 == 0:\n",
    "        if year % 100 == 0:\n",
    "            if year % 400 == 0:\n",
    "                check = True\n",
    "            else:\n",
    "                pass\n",
    "        else:\n",
    "            check = True\n",
    "\n",
    "    return check\n",
    "\n",
    "\n",
    "def countleap_till_lastyear(thisyear):\n",
    "    # 입력한 년도의 직전년도까지 있었던 윤년의 개수를 구한다.\n",
    "    count = 0\n",
    "    for i in range(0, thisyear, 4):\n",
    "        if i == 0:\n",
    "            pass\n",
    "        else:\n",
    "            if i % 100 == 0:\n",
    "                if i % 400 == 0:\n",
    "                    count += 1\n",
    "                else:\n",
    "                    pass\n",
    "            else:\n",
    "                count += 1    \n",
    "\n",
    "    return count\n",
    "\n",
    "def numofdays_thisyear(year, month, day):\n",
    "    # 입력년도의 1월1일부터 입력한 날짜까지의 day 개수를 구한다.\n",
    "    dic_month = {1:31, 2:28, 3:31, 4:30, 5:31, 6:30, 7:31, 8:31, 9:30, 10:31, 11:30, 12:31}\n",
    "    count = 0\n",
    "    for i in range(1, month):\n",
    "        count += dic_month[i]\n",
    "    \n",
    "    count = count + day\n",
    "    \n",
    "    if (is_leap(year) == True) and (month >= 3):\n",
    "        count += 1\n",
    "      \n",
    "    return count\n",
    "\n",
    "def input_date():\n",
    "    year = int(input(\"__년도를 입력하시오:\"))\n",
    "    month = int(input(\"__월을 입력하시오:\"))\n",
    "    day = int(input(\"__일을 입력하시오:\"))\n",
    "\n",
    "    return year, month, day\n",
    "\n",
    "def get_day_name(thisyear, month, day):    \n",
    "    days = ['일요일', '월요일', '화요일', '수요일', '목요일', '금요일', '토요일']\n",
    "    lastyear = thisyear - 1\n",
    "\n",
    "    days_till_today = lastyear*365 + countleap_till_lastyear(year) + numofdays_thisyear(year, month, day)\n",
    "    day_name = days[days_till_today % 7]\n",
    "    \n",
    "    return day_name\n",
    "\n",
    "year, month, day = input_date()\n",
    "day_name = get_day_name(year, month, day)\n",
    "print(day_name)\n",
    "if is_leap(year) == True:\n",
    "    print(\"입력하신 %s는 윤년입니다\" % year)"
   ]
  },
  {
   "cell_type": "code",
   "execution_count": 1,
   "metadata": {},
   "outputs": [
    {
     "name": "stdout",
     "output_type": "stream",
     "text": [
      "__년도를 입력하시오:2020\n",
      "__월을 입력하시오:5\n",
      "__일을 입력하시오:19\n",
      "화요일\n",
      "입력하신 2020는 윤년입니다\n"
     ]
    }
   ],
   "source": [
    "%run get_day_name.py"
   ]
  },
  {
   "cell_type": "code",
   "execution_count": 11,
   "metadata": {},
   "outputs": [
    {
     "name": "stdout",
     "output_type": "stream",
     "text": [
      "__년도를 입력하시오:1988\n",
      "__월을 입력하시오:12\n",
      "__일을 입력하시오:22\n",
      "목요일\n",
      "입력하신 1988는 윤년입니다\n"
     ]
    }
   ],
   "source": [
    "%run get_day_name.py"
   ]
  }
 ],
 "metadata": {
  "kernelspec": {
   "display_name": "Python 3",
   "language": "python",
   "name": "python3"
  },
  "language_info": {
   "codemirror_mode": {
    "name": "ipython",
    "version": 3
   },
   "file_extension": ".py",
   "mimetype": "text/x-python",
   "name": "python",
   "nbconvert_exporter": "python",
   "pygments_lexer": "ipython3",
   "version": "3.5.4"
  }
 },
 "nbformat": 4,
 "nbformat_minor": 4
}
