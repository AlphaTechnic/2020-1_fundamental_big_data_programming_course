{
 "cells": [
  {
   "cell_type": "code",
   "execution_count": 1,
   "metadata": {},
   "outputs": [
    {
     "name": "stdout",
     "output_type": "stream",
     "text": [
      "Overwriting chan.py\n"
     ]
    }
   ],
   "source": [
    "%%writefile chan.py\n",
    "\n",
    "def count_char(word):\n",
    "    Upper = 'ABCDEFGHIJKLMNOPQRSTUVWXYZ'\n",
    "    lower = 'abcdefghijklmnopqrstuvwxyz'\n",
    "\n",
    "    # 주어진 단어의 char을 모두 소문자로 변환하기 위한 dic 셋팅\n",
    "    dic_lower = {}\n",
    "    count = {}\n",
    "    for up, low in zip(Upper, lower):\n",
    "        dic_lower[up] = low\n",
    "        dic_lower[low] = low\n",
    "        count[low] = 0\n",
    "\n",
    "    for char in word:\n",
    "        count[dic_lower[char]] += 1\n",
    "\n",
    "    duplicate = {}\n",
    "    for char in word:\n",
    "        if dic_lower[char] in duplicate:\n",
    "            pass\n",
    "        else:\n",
    "            duplicate[dic_lower[char]] = True\n",
    "            print(\"(%s : %s)\" % (dic_lower[char], count[dic_lower[char]]), end = '  ')\n",
    "    print(\"\")\n",
    "        \n",
    "def change_case(word):\n",
    "    Upper = 'ABCDEFGHIJKLMNOPQRSTUVWXYZ'\n",
    "    lower = 'abcdefghijklmnopqrstuvwxyz'\n",
    "    \n",
    "    # 주어진 단어의 char의 대소문자 변환을 위한 dic 셋팅\n",
    "    Up2low = {}\n",
    "    low2Up = {}\n",
    "    for up, low in zip(Upper, lower):\n",
    "        Up2low[up] = low\n",
    "        low2Up[low] = up\n",
    "    \n",
    "    for char in word:\n",
    "        if char in Up2low:\n",
    "            print(Up2low[char], end = '')\n",
    "        else:\n",
    "            print(low2Up[char], end = '')\n",
    "                \n",
    "word = input()\n",
    "if word == 'STOP':\n",
    "    print('Bye')\n",
    "else:\n",
    "    count_char(word)\n",
    "    change_case(word)\n"
   ]
  },
  {
   "cell_type": "code",
   "execution_count": 2,
   "metadata": {},
   "outputs": [
    {
     "name": "stdout",
     "output_type": "stream",
     "text": [
      "Sogang\n",
      "(s : 1)  (o : 1)  (g : 2)  (a : 1)  (n : 1)  \n",
      "sOGANG"
     ]
    }
   ],
   "source": [
    "%run chan.py"
   ]
  },
  {
   "cell_type": "code",
   "execution_count": 3,
   "metadata": {},
   "outputs": [
    {
     "name": "stdout",
     "output_type": "stream",
     "text": [
      "sOGANG\n",
      "(s : 1)  (o : 1)  (g : 2)  (a : 1)  (n : 1)  \n",
      "Sogang"
     ]
    }
   ],
   "source": [
    "%run chan.py"
   ]
  },
  {
   "cell_type": "code",
   "execution_count": 4,
   "metadata": {
    "scrolled": true
   },
   "outputs": [
    {
     "name": "stdout",
     "output_type": "stream",
     "text": [
      "sogang\n",
      "(s : 1)  (o : 1)  (g : 2)  (a : 1)  (n : 1)  \n",
      "SOGANG"
     ]
    }
   ],
   "source": [
    "%run chan.py"
   ]
  },
  {
   "cell_type": "code",
   "execution_count": 5,
   "metadata": {},
   "outputs": [
    {
     "name": "stdout",
     "output_type": "stream",
     "text": [
      "Univ\n",
      "(u : 1)  (n : 1)  (i : 1)  (v : 1)  \n",
      "uNIV"
     ]
    }
   ],
   "source": [
    "%run chan.py"
   ]
  },
  {
   "cell_type": "code",
   "execution_count": 6,
   "metadata": {},
   "outputs": [
    {
     "name": "stdout",
     "output_type": "stream",
     "text": [
      "uNIV\n",
      "(u : 1)  (n : 1)  (i : 1)  (v : 1)  \n",
      "Univ"
     ]
    }
   ],
   "source": [
    "%run chan.py"
   ]
  },
  {
   "cell_type": "code",
   "execution_count": 7,
   "metadata": {},
   "outputs": [
    {
     "name": "stdout",
     "output_type": "stream",
     "text": [
      "Tel\n",
      "(t : 1)  (e : 1)  (l : 1)  \n",
      "tEL"
     ]
    }
   ],
   "source": [
    "%run chan.py"
   ]
  },
  {
   "cell_type": "code",
   "execution_count": 8,
   "metadata": {},
   "outputs": [
    {
     "name": "stdout",
     "output_type": "stream",
     "text": [
      "STOP\n",
      "Bye\n"
     ]
    }
   ],
   "source": [
    "%run chan.py"
   ]
  }
 ],
 "metadata": {
  "kernelspec": {
   "display_name": "Python 3",
   "language": "python",
   "name": "python3"
  },
  "language_info": {
   "codemirror_mode": {
    "name": "ipython",
    "version": 3
   },
   "file_extension": ".py",
   "mimetype": "text/x-python",
   "name": "python",
   "nbconvert_exporter": "python",
   "pygments_lexer": "ipython3",
   "version": "3.5.4"
  }
 },
 "nbformat": 4,
 "nbformat_minor": 4
}
