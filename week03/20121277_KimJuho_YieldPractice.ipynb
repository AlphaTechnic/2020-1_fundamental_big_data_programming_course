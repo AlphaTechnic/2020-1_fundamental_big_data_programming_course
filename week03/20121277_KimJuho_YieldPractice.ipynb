{
 "cells": [
  {
   "cell_type": "code",
   "execution_count": 10,
   "metadata": {},
   "outputs": [
    {
     "name": "stdout",
     "output_type": "stream",
     "text": [
      "Writing Fibonacci1.py\n"
     ]
    }
   ],
   "source": [
    "%%writefile Fibonacci1.py\n",
    "\n",
    "def Fibo_func(N):\n",
    "    yield 0\n",
    "    a, b = 0, 1\n",
    "    for _ in range(N):\n",
    "        a, b = b, a+b\n",
    "        yield a"
   ]
  },
  {
   "cell_type": "code",
   "execution_count": 11,
   "metadata": {},
   "outputs": [],
   "source": [
    "%run Fibonacci1.py"
   ]
  },
  {
   "cell_type": "code",
   "execution_count": 12,
   "metadata": {},
   "outputs": [
    {
     "name": "stdout",
     "output_type": "stream",
     "text": [
      "0\n",
      "1\n",
      "1\n",
      "2\n",
      "3\n",
      "5\n",
      "8\n",
      "13\n",
      "21\n",
      "34\n",
      "55\n"
     ]
    }
   ],
   "source": [
    "import Fibonacci1\n",
    "fib = Fibonacci1.Fibo_func(10)\n",
    "\n",
    "for i in fib:\n",
    "    print(i)"
   ]
  }
 ],
 "metadata": {
  "kernelspec": {
   "display_name": "Python 3",
   "language": "python",
   "name": "python3"
  },
  "language_info": {
   "codemirror_mode": {
    "name": "ipython",
    "version": 3
   },
   "file_extension": ".py",
   "mimetype": "text/x-python",
   "name": "python",
   "nbconvert_exporter": "python",
   "pygments_lexer": "ipython3",
   "version": "3.5.4"
  }
 },
 "nbformat": 4,
 "nbformat_minor": 4
}
