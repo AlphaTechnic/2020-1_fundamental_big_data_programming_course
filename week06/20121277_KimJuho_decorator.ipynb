{
 "cells": [
  {
   "cell_type": "code",
   "execution_count": 1,
   "metadata": {},
   "outputs": [
    {
     "name": "stdout",
     "output_type": "stream",
     "text": [
      "Writing decorator.py\n"
     ]
    }
   ],
   "source": [
    "%%writefile decorator.py\n",
    "\n",
    "class verbose:\n",
    "    def __init__(self, f):\n",
    "        print(\"Initializing verbose.\")\n",
    "        self.func = f\n",
    "\n",
    "    def __call__(self, name):\n",
    "        print(\"Begin\", self.func.__name__)\n",
    "        self.func(name)\n",
    "        print(\"End\", self.func.__name__, \"\\n\")\n",
    "    \n",
    "@verbose\n",
    "def my_function(name):\n",
    "    print(\"hello, %s!\" % name)\n"
   ]
  },
  {
   "cell_type": "code",
   "execution_count": 2,
   "metadata": {},
   "outputs": [
    {
     "name": "stdout",
     "output_type": "stream",
     "text": [
      "Initializing verbose.\n",
      "Program start\n",
      "\n",
      "Begin my_function\n",
      "hello, Mickey!\n",
      "End my_function \n",
      "\n",
      "Begin my_function\n",
      "hello, Minnie!\n",
      "End my_function \n",
      "\n",
      "Begin my_function\n",
      "hello, Donald!\n",
      "End my_function \n",
      "\n"
     ]
    }
   ],
   "source": [
    "%run decorator.py\n",
    "\n",
    "print(\"Program start\\n\")\n",
    "my_function(\"Mickey\")\n",
    "my_function(\"Minnie\")\n",
    "my_function(\"Donald\")"
   ]
  }
 ],
 "metadata": {
  "kernelspec": {
   "display_name": "Python 3",
   "language": "python",
   "name": "python3"
  },
  "language_info": {
   "codemirror_mode": {
    "name": "ipython",
    "version": 3
   },
   "file_extension": ".py",
   "mimetype": "text/x-python",
   "name": "python",
   "nbconvert_exporter": "python",
   "pygments_lexer": "ipython3",
   "version": "3.5.4"
  }
 },
 "nbformat": 4,
 "nbformat_minor": 4
}
