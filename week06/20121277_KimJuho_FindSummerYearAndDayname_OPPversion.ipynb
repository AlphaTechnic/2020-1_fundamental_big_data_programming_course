{
 "cells": [
  {
   "cell_type": "code",
   "execution_count": 4,
   "metadata": {},
   "outputs": [
    {
     "name": "stdout",
     "output_type": "stream",
     "text": [
      "Overwriting dayname_cal.py\n"
     ]
    }
   ],
   "source": [
    "%%writefile dayname_cal.py\n",
    "\n",
    "class DaynameCalculator:\n",
    "    def input_date(self):\n",
    "        self.year = int(input(\"__년도를 입력하시오:\"))\n",
    "        self.month = int(input(\"__월을 입력하시오:\"))\n",
    "        self.day = int(input(\"__일을 입력하시오:\"))\n",
    "    \n",
    "    def is_leap(self):\n",
    "        check = False\n",
    "        if self.year % 4 == 0:\n",
    "            if self.year % 100 == 0:\n",
    "                if self.year % 400 == 0:\n",
    "                    check = True\n",
    "                else:\n",
    "                    pass\n",
    "            else:\n",
    "                check = True\n",
    "\n",
    "        return check\n",
    "\n",
    "    def countleap_till_lastyear(self):\n",
    "        # self.year의 직전년도까지 있었던 윤년의 개수를 구한다.\n",
    "        count = 0\n",
    "        for i in range(0, self.year, 4):\n",
    "            if i == 0:\n",
    "                pass\n",
    "            else:\n",
    "                if i % 100 == 0:\n",
    "                    if i % 400 == 0:\n",
    "                        count += 1\n",
    "                    else:\n",
    "                        pass\n",
    "                else:\n",
    "                    count += 1    \n",
    "\n",
    "        return count\n",
    "\n",
    "    def numofdays_thisyear(self):\n",
    "        # self.year년도의 1월1일부터 입력한 날짜까지의 day 개수를 구한다.\n",
    "        dic_month = {1:31, 2:28, 3:31, 4:30, 5:31, 6:30, 7:31, 8:31, 9:30, 10:31, 11:30, 12:31}\n",
    "        count = 0\n",
    "        for i in range(1, self.month):\n",
    "            count += dic_month[i]\n",
    "\n",
    "        count = count + self.day\n",
    "\n",
    "        if (self.is_leap() == True) and (self.month >= 3):\n",
    "            count += 1\n",
    "\n",
    "        return count\n",
    "\n",
    "    def get_day_name(self):\n",
    "        days = ['일요일', '월요일', '화요일', '수요일', '목요일', '금요일', '토요일']\n",
    "        self.lastyear = self.year - 1\n",
    "\n",
    "        days_till_today = self.lastyear*365 + self.countleap_till_lastyear() + self.numofdays_thisyear()\n",
    "        self.day_name = days[days_till_today % 7]\n",
    "        \n",
    "        return self.day_name\n",
    "\n",
    "if __name__ == \"__main__\":\n",
    "    a = DaynameCalculator()\n",
    "    a.input_date()\n",
    "    print(a.get_day_name())\n",
    "    if a.is_leap() == True:\n",
    "        print(\"입력하신 %s은 윤년입니다\\n\" % a.year)\n",
    "        \n",
    "    b = DaynameCalculator()\n",
    "    b.input_date()\n",
    "    print(b.get_day_name())\n",
    "    if b.is_leap() == True:\n",
    "        print(\"입력하신 %s은 윤년입니다\\n\" % b.year)\n"
   ]
  },
  {
   "cell_type": "code",
   "execution_count": 5,
   "metadata": {},
   "outputs": [
    {
     "name": "stdout",
     "output_type": "stream",
     "text": [
      "__년도를 입력하시오:2020\n",
      "__월을 입력하시오:4\n",
      "__일을 입력하시오:27\n",
      "월요일\n",
      "입력하신 2020은 윤년입니다\n",
      "\n",
      "__년도를 입력하시오:1988\n",
      "__월을 입력하시오:12\n",
      "__일을 입력하시오:22\n",
      "목요일\n",
      "입력하신 1988은 윤년입니다\n",
      "\n"
     ]
    }
   ],
   "source": [
    "%run dayname_cal.py"
   ]
  }
 ],
 "metadata": {
  "kernelspec": {
   "display_name": "Python 3",
   "language": "python",
   "name": "python3"
  },
  "language_info": {
   "codemirror_mode": {
    "name": "ipython",
    "version": 3
   },
   "file_extension": ".py",
   "mimetype": "text/x-python",
   "name": "python",
   "nbconvert_exporter": "python",
   "pygments_lexer": "ipython3",
   "version": "3.5.4"
  }
 },
 "nbformat": 4,
 "nbformat_minor": 4
}
