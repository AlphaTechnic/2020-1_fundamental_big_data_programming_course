{
 "cells": [
  {
   "cell_type": "code",
   "execution_count": 4,
   "metadata": {},
   "outputs": [
    {
     "data": {
      "text/plain": [
       "<generator object Test at 0x0000025A39E80DB0>"
      ]
     },
     "execution_count": 4,
     "metadata": {},
     "output_type": "execute_result"
    }
   ],
   "source": [
    "def Test():\n",
    "    print (\"start Test()\")\n",
    "    for x in range(5):\n",
    "        yield x+x\n",
    "Test()"
   ]
  },
  {
   "cell_type": "code",
   "execution_count": 8,
   "metadata": {},
   "outputs": [
    {
     "data": {
      "text/plain": [
       "[5]"
      ]
     },
     "execution_count": 8,
     "metadata": {},
     "output_type": "execute_result"
    }
   ],
   "source": [
    "list(map(lambda x,y: x^2+y^2, [2],[3])) "
   ]
  },
  {
   "cell_type": "code",
   "execution_count": 18,
   "metadata": {},
   "outputs": [
    {
     "name": "stderr",
     "output_type": "stream",
     "text": [
      "UsageError: Line magic function `%dir(functools.reduce)` not found.\n"
     ]
    }
   ],
   "source": [
    "a = [1, 2, 3, 4]\n",
    "b = [11, 12, 13, 14]\n",
    "list(map(lambda x,y : x+y,a,b))\n",
    "\n",
    "c = [x for x in range(1, 13)]\n",
    "list(filter(lambda x : x%3==0, c))\n",
    "\n",
    "from functools import reduce\n",
    "reduce(lambda x,y: x+y, [1,2,3,4,5])\n",
    "%dir(functools.reduce)"
   ]
  },
  {
   "cell_type": "code",
   "execution_count": 25,
   "metadata": {},
   "outputs": [
    {
     "name": "stdout",
     "output_type": "stream",
     "text": [
      "결과값: 28.26\n",
      "결과값: 28.3\n"
     ]
    }
   ],
   "source": [
    "def circle_area(radius, func):\n",
    "    area = 3.14 * (radius**2)\n",
    "    func(area)\n",
    "    \n",
    "def precise_low(value):\n",
    "    print(\"결과값:\", round(value, 1))\n",
    "\n",
    "def precise_high(value):\n",
    "    print(\"결과값:\", round(value, 2))\n",
    "    \n",
    "circle_area(3, precise_high)\n",
    "circle_area(3, lambda x : print(\"결과값:\", round(x, 1)))"
   ]
  },
  {
   "cell_type": "code",
   "execution_count": 7,
   "metadata": {},
   "outputs": [
    {
     "name": "stdout",
     "output_type": "stream",
     "text": [
      "5 4 1 4 "
     ]
    }
   ],
   "source": [
    "import random\n",
    "\n",
    "rand0to5 = iter(lambda : random.randint(0, 5), 2 )\n",
    "for i in rand0to5:\n",
    "    print(i, end = ' ')\n"
   ]
  },
  {
   "cell_type": "code",
   "execution_count": 35,
   "metadata": {},
   "outputs": [
    {
     "name": "stdout",
     "output_type": "stream",
     "text": [
      "sdas\n",
      "(s : 2)  (d : 1)  (a : 1)  \n",
      "SDAS"
     ]
    }
   ],
   "source": [
    "def count_char(word):\n",
    "    Upper = 'ABCDEFGHIJKLMNOPQRSTUVWXYZ'\n",
    "    lower = 'abcdefghijklmnopqrstuvwxyz'\n",
    "\n",
    "    # 주어진 단어의 char을 모두 소문자로 변환하기 위한 dic 셋팅\n",
    "    dic_lower = {}\n",
    "    count = {}\n",
    "    for up, low in zip(Upper, lower):\n",
    "        dic_lower[up] = low\n",
    "        dic_lower[low] = low\n",
    "        count[low] = 0\n",
    "\n",
    "    for char in word:\n",
    "        count[dic_lower[char]] += 1\n",
    "\n",
    "    duplicate = {}\n",
    "    for char in word:\n",
    "        if dic_lower[char] in duplicate:\n",
    "            pass\n",
    "        else:\n",
    "            duplicate[dic_lower[char]] = True\n",
    "            print(\"(%s : %s)\" % (dic_lower[char], count[dic_lower[char]]), end = '  ')\n",
    "    print(\"\")\n",
    "        \n",
    "def change_case(word):\n",
    "    Upper = 'ABCDEFGHIJKLMNOPQRSTUVWXYZ'\n",
    "    lower = 'abcdefghijklmnopqrstuvwxyz'\n",
    "    \n",
    "    # 주어진 단어의 char의 대소문자 변환을 위한 dic 셋팅\n",
    "    Up2low = {}\n",
    "    low2Up = {}\n",
    "    for up, low in zip(Upper, lower):\n",
    "        Up2low[up] = low\n",
    "        low2Up[low] = up\n",
    "    \n",
    "    for char in word:\n",
    "        if char in Up2low:\n",
    "            print(Up2low[char], end = '')\n",
    "        else:\n",
    "            print(low2Up[char], end = '')\n",
    "                \n",
    "word = input()\n",
    "if word == 'STOP':\n",
    "    print('Bye')\n",
    "else:\n",
    "    count_char(word)\n",
    "    change_case(word)"
   ]
  },
  {
   "cell_type": "code",
   "execution_count": 39,
   "metadata": {},
   "outputs": [
    {
     "data": {
      "text/plain": [
       "31"
      ]
     },
     "execution_count": 39,
     "metadata": {},
     "output_type": "execute_result"
    }
   ],
   "source": [
    "class Student:\n",
    "    def __init__(self, name, year, class_num, student_id):\n",
    "        self.name = name\n",
    "        self.year = year\n",
    "        self.class_num = class_num \n",
    "        self.student_id = student_id\n",
    "        \n",
    "    def introduce_myself(self):\n",
    "        print(self.name, self.year, self.class_num, self.student_id)\n",
    "        \n",
    "kimjuho = Student('kimjuho', 31, 1, 20121277)\n",
    "kimjuho.year"
   ]
  },
  {
   "cell_type": "code",
   "execution_count": 43,
   "metadata": {},
   "outputs": [
    {
     "ename": "AttributeError",
     "evalue": "'Car' object has no attribute '_speed'",
     "output_type": "error",
     "traceback": [
      "\u001b[1;31m---------------------------------------------------------------------------\u001b[0m",
      "\u001b[1;31mAttributeError\u001b[0m                            Traceback (most recent call last)",
      "\u001b[1;32m<ipython-input-43-f78374a31a71>\u001b[0m in \u001b[0;36m<module>\u001b[1;34m\u001b[0m\n\u001b[0;32m     16\u001b[0m \u001b[1;33m\u001b[0m\u001b[0m\n\u001b[0;32m     17\u001b[0m \u001b[0mmy_car\u001b[0m \u001b[1;33m=\u001b[0m \u001b[0mCar\u001b[0m\u001b[1;33m(\u001b[0m\u001b[1;33m)\u001b[0m\u001b[1;33m\u001b[0m\u001b[0m\n\u001b[1;32m---> 18\u001b[1;33m \u001b[0mmy_car\u001b[0m\u001b[1;33m.\u001b[0m\u001b[0maccelerate\u001b[0m\u001b[1;33m(\u001b[0m\u001b[1;33m)\u001b[0m\u001b[1;33m\u001b[0m\u001b[0m\n\u001b[0m",
      "\u001b[1;32m<ipython-input-43-f78374a31a71>\u001b[0m in \u001b[0;36maccelerate\u001b[1;34m(self)\u001b[0m\n\u001b[0;32m      9\u001b[0m         \u001b[0mprint\u001b[0m\u001b[1;33m(\u001b[0m\u001b[1;34m\"자동차가 출발합니다.\"\u001b[0m\u001b[1;33m)\u001b[0m\u001b[1;33m\u001b[0m\u001b[0m\n\u001b[0;32m     10\u001b[0m     \u001b[1;32mdef\u001b[0m \u001b[0maccelerate\u001b[0m\u001b[1;33m(\u001b[0m\u001b[0mself\u001b[0m\u001b[1;33m)\u001b[0m\u001b[1;33m:\u001b[0m\u001b[1;33m\u001b[0m\u001b[0m\n\u001b[1;32m---> 11\u001b[1;33m         \u001b[0mself\u001b[0m\u001b[1;33m.\u001b[0m\u001b[0m_speed\u001b[0m \u001b[1;33m+=\u001b[0m \u001b[1;36m30\u001b[0m\u001b[1;33m\u001b[0m\u001b[0m\n\u001b[0m\u001b[0;32m     12\u001b[0m         \u001b[0mprint\u001b[0m\u001b[1;33m(\u001b[0m\u001b[1;34m\"자동차 가솤꾸~~\"\u001b[0m\u001b[1;33m)\u001b[0m\u001b[1;33m\u001b[0m\u001b[0m\n\u001b[0;32m     13\u001b[0m     \u001b[1;32mdef\u001b[0m \u001b[0mstop\u001b[0m\u001b[1;33m(\u001b[0m\u001b[0mself\u001b[0m\u001b[1;33m)\u001b[0m\u001b[1;33m:\u001b[0m\u001b[1;33m\u001b[0m\u001b[0m\n",
      "\u001b[1;31mAttributeError\u001b[0m: 'Car' object has no attribute '_speed'"
     ]
    }
   ],
   "source": [
    "class Car:\n",
    "#     def __init__(self):\n",
    "#         self._speed = 0\n",
    "#         print(\"자동차가 생성되었읍니다.\")\n",
    "    def get_speed(self):\n",
    "        return self._speed\n",
    "    def start(self):\n",
    "        self._speed = 20\n",
    "        print(\"자동차가 출발합니다.\")\n",
    "    def accelerate(self):\n",
    "        self._speed += 30\n",
    "        print(\"자동차 가솤꾸~~\")\n",
    "    def stop(self):\n",
    "        self._speed = 0\n",
    "        print(\"자동차가 정지합니다.\")\n",
    "        \n",
    "my_car = Car()\n",
    "my_car.accelerate()\n"
   ]
  },
  {
   "cell_type": "code",
   "execution_count": 47,
   "metadata": {},
   "outputs": [
    {
     "name": "stdout",
     "output_type": "stream",
     "text": [
      "5\n",
      "4\n",
      "4\n",
      "3\n",
      "5\n",
      "0\n",
      "4\n",
      "0\n"
     ]
    },
    {
     "ename": "StopIteration",
     "evalue": "",
     "output_type": "error",
     "traceback": [
      "\u001b[1;31m---------------------------------------------------------------------------\u001b[0m",
      "\u001b[1;31mStopIteration\u001b[0m                             Traceback (most recent call last)",
      "\u001b[1;32m<ipython-input-47-a60287bce83c>\u001b[0m in \u001b[0;36m<module>\u001b[1;34m\u001b[0m\n\u001b[0;32m      3\u001b[0m \u001b[0mrand0to5\u001b[0m \u001b[1;33m=\u001b[0m \u001b[0miter\u001b[0m\u001b[1;33m(\u001b[0m\u001b[1;32mlambda\u001b[0m \u001b[1;33m:\u001b[0m \u001b[0mrandom\u001b[0m\u001b[1;33m.\u001b[0m\u001b[0mrandint\u001b[0m\u001b[1;33m(\u001b[0m\u001b[1;36m0\u001b[0m\u001b[1;33m,\u001b[0m\u001b[1;36m5\u001b[0m\u001b[1;33m)\u001b[0m\u001b[1;33m,\u001b[0m \u001b[1;36m2\u001b[0m\u001b[1;33m)\u001b[0m\u001b[1;33m\u001b[0m\u001b[0m\n\u001b[0;32m      4\u001b[0m \u001b[1;32mwhile\u001b[0m \u001b[1;32mTrue\u001b[0m\u001b[1;33m:\u001b[0m\u001b[1;33m\u001b[0m\u001b[0m\n\u001b[1;32m----> 5\u001b[1;33m     \u001b[0mprint\u001b[0m\u001b[1;33m(\u001b[0m\u001b[0mnext\u001b[0m\u001b[1;33m(\u001b[0m\u001b[0mrand0to5\u001b[0m\u001b[1;33m)\u001b[0m\u001b[1;33m)\u001b[0m\u001b[1;33m\u001b[0m\u001b[0m\n\u001b[0m",
      "\u001b[1;31mStopIteration\u001b[0m: "
     ]
    }
   ],
   "source": [
    "import random\n",
    "\n",
    "rand0to5 = iter(lambda : random.randint(0,5), 2)\n",
    "while True:\n",
    "    print(next(rand0to5))"
   ]
  },
  {
   "cell_type": "code",
   "execution_count": null,
   "metadata": {},
   "outputs": [],
   "source": []
  },
  {
   "cell_type": "code",
   "execution_count": null,
   "metadata": {},
   "outputs": [],
   "source": []
  }
 ],
 "metadata": {
  "kernelspec": {
   "display_name": "Python 3",
   "language": "python",
   "name": "python3"
  },
  "language_info": {
   "codemirror_mode": {
    "name": "ipython",
    "version": 3
   },
   "file_extension": ".py",
   "mimetype": "text/x-python",
   "name": "python",
   "nbconvert_exporter": "python",
   "pygments_lexer": "ipython3",
   "version": "3.5.4"
  }
 },
 "nbformat": 4,
 "nbformat_minor": 4
}
