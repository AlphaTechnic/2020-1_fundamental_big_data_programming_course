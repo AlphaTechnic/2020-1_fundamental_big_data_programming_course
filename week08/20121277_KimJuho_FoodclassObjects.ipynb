{
 "cells": [
  {
   "cell_type": "code",
   "execution_count": 5,
   "metadata": {
    "scrolled": true
   },
   "outputs": [
    {
     "name": "stdout",
     "output_type": "stream",
     "text": [
      "Writing Foodclass.py\n"
     ]
    }
   ],
   "source": [
    "%%writefile Foodclass.py\n",
    "\n",
    "class Food():\n",
    "    def __init__ (self, name, price):\n",
    "        self.name = name\n",
    "        self.price = price\n",
    "        \n",
    "    def __lt__ (self, other):\n",
    "        return self.price < other.price\n",
    "    \n",
    "    def __add__(self, other):\n",
    "        return self.price + other.price\n"
   ]
  },
  {
   "cell_type": "code",
   "execution_count": 6,
   "metadata": {},
   "outputs": [
    {
     "name": "stdout",
     "output_type": "stream",
     "text": [
      "True\n",
      "8000\n"
     ]
    }
   ],
   "source": [
    "%run Foodclass.py\n",
    "\n",
    "food_1 = Food('아이스크림', 3000)\n",
    "food_2 = Food('햄버거', 5000)\n",
    "\n",
    "print(food_1 < food_2)\n",
    "print(food_1 + food_2)"
   ]
  }
 ],
 "metadata": {
  "kernelspec": {
   "display_name": "Python 3",
   "language": "python",
   "name": "python3"
  },
  "language_info": {
   "codemirror_mode": {
    "name": "ipython",
    "version": 3
   },
   "file_extension": ".py",
   "mimetype": "text/x-python",
   "name": "python",
   "nbconvert_exporter": "python",
   "pygments_lexer": "ipython3",
   "version": "3.5.4"
  }
 },
 "nbformat": 4,
 "nbformat_minor": 4
}
