{
 "cells": [
  {
   "cell_type": "code",
   "execution_count": 10,
   "metadata": {},
   "outputs": [
    {
     "name": "stdout",
     "output_type": "stream",
     "text": [
      "Writing fibonacci.py\n"
     ]
    }
   ],
   "source": [
    "%%writefile fibonacci.py\n",
    "\n",
    "def fibo(n):\n",
    "    a1 = 1\n",
    "    a2 = 1\n",
    "    if n == 1:\n",
    "        return a1\n",
    "    elif n == 2:\n",
    "        return a2\n",
    "    else:\n",
    "        for i in range(n-2):\n",
    "            newa = a1 + a2\n",
    "            a1 = a2\n",
    "            a2 = newa\n",
    "        return newa\n",
    "\n",
    "n = int(input())\n",
    "    \n",
    "print(fibo(n))"
   ]
  },
  {
   "cell_type": "code",
   "execution_count": 11,
   "metadata": {},
   "outputs": [
    {
     "name": "stdout",
     "output_type": "stream",
     "text": [
      "7\n",
      "13\n"
     ]
    }
   ],
   "source": [
    "%run fibonacci"
   ]
  },
  {
   "cell_type": "code",
   "execution_count": 12,
   "metadata": {},
   "outputs": [
    {
     "name": "stdout",
     "output_type": "stream",
     "text": [
      "Writing fibona.py\n"
     ]
    }
   ],
   "source": [
    "%%writefile fibona.py\n",
    "\n",
    "def fibo(n):\n",
    "    a1 = 1\n",
    "    a2 = 1\n",
    "    if n == 1:\n",
    "        return a1\n",
    "    elif n == 2:\n",
    "        return a2\n",
    "    else:\n",
    "        for i in range(n-2):\n",
    "            newa = a1 + a2\n",
    "            a1 = a2\n",
    "            a2 = newa\n",
    "        return newa\n"
   ]
  },
  {
   "cell_type": "code",
   "execution_count": 13,
   "metadata": {},
   "outputs": [
    {
     "data": {
      "text/plain": [
       "13"
      ]
     },
     "execution_count": 13,
     "metadata": {},
     "output_type": "execute_result"
    }
   ],
   "source": [
    "import fibona\n",
    "\n",
    "fibona.fibo(7)"
   ]
  }
 ],
 "metadata": {
  "kernelspec": {
   "display_name": "Python 3",
   "language": "python",
   "name": "python3"
  },
  "language_info": {
   "codemirror_mode": {
    "name": "ipython",
    "version": 3
   },
   "file_extension": ".py",
   "mimetype": "text/x-python",
   "name": "python",
   "nbconvert_exporter": "python",
   "pygments_lexer": "ipython3",
   "version": "3.5.4"
  }
 },
 "nbformat": 4,
 "nbformat_minor": 2
}
