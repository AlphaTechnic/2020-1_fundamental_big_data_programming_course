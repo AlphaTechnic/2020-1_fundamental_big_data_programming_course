{
 "cells": [
  {
   "cell_type": "code",
   "execution_count": 1,
   "metadata": {},
   "outputs": [
    {
     "name": "stdout",
     "output_type": "stream",
     "text": [
      "Writing inverseIn.py\n"
     ]
    }
   ],
   "source": [
    "%%writefile inverseIn.py\n",
    "\n",
    "words = input()\n",
    "N = len(words)\n",
    "\n",
    "for i in range(N):\n",
    "    for j in range(i,-1, -1):\n",
    "        letter = words[j]\n",
    "        print(letter, end = '')\n",
    "    print('')"
   ]
  },
  {
   "cell_type": "code",
   "execution_count": 2,
   "metadata": {},
   "outputs": [
    {
     "name": "stdout",
     "output_type": "stream",
     "text": [
      "Sogang University\n",
      "S\n",
      "oS\n",
      "goS\n",
      "agoS\n",
      "nagoS\n",
      "gnagoS\n",
      " gnagoS\n",
      "U gnagoS\n",
      "nU gnagoS\n",
      "inU gnagoS\n",
      "vinU gnagoS\n",
      "evinU gnagoS\n",
      "revinU gnagoS\n",
      "srevinU gnagoS\n",
      "isrevinU gnagoS\n",
      "tisrevinU gnagoS\n",
      "ytisrevinU gnagoS\n"
     ]
    }
   ],
   "source": [
    "%run inverseIn.py"
   ]
  }
 ],
 "metadata": {
  "kernelspec": {
   "display_name": "Python 3",
   "language": "python",
   "name": "python3"
  },
  "language_info": {
   "codemirror_mode": {
    "name": "ipython",
    "version": 3
   },
   "file_extension": ".py",
   "mimetype": "text/x-python",
   "name": "python",
   "nbconvert_exporter": "python",
   "pygments_lexer": "ipython3",
   "version": "3.7.5"
  }
 },
 "nbformat": 4,
 "nbformat_minor": 2
}
