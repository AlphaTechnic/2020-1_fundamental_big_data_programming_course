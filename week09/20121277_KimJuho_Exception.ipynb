{
 "cells": [
  {
   "cell_type": "code",
   "execution_count": 1,
   "metadata": {},
   "outputs": [
    {
     "name": "stdout",
     "output_type": "stream",
     "text": [
      "Writing get_score.py\n"
     ]
    }
   ],
   "source": [
    "%%writefile get_score.py\n",
    "\n",
    "class ScoreException(Exception):\n",
    "    def __init__(self, message):\n",
    "        self._message = message\n",
    "\n",
    "def get_score():\n",
    "    score = int(input(\"점수를 입력하시오: \"))\n",
    "    \n",
    "    if score < 0 or score > 100:\n",
    "        raise ScoreException(\"점수는 0점에서 100점 사이의 값이어야 합니다.\")\n",
    "    else:\n",
    "        return score\n",
    "\n",
    "if __name__ == \"__main__\":\n",
    "    try:\n",
    "        score = get_score()\n",
    "    except ScoreException as e:\n",
    "        print(e.args[0])\n",
    "    else:\n",
    "        print(\"점수는 %s입니다.\" % score)"
   ]
  },
  {
   "cell_type": "code",
   "execution_count": 2,
   "metadata": {},
   "outputs": [
    {
     "name": "stdout",
     "output_type": "stream",
     "text": [
      "점수를 입력하시오: 88\n",
      "점수는 88입니다.\n"
     ]
    }
   ],
   "source": [
    "%run get_score.py"
   ]
  },
  {
   "cell_type": "code",
   "execution_count": 3,
   "metadata": {},
   "outputs": [
    {
     "name": "stdout",
     "output_type": "stream",
     "text": [
      "점수를 입력하시오: 101\n",
      "점수는 0점에서 100점 사이의 값이어야 합니다.\n"
     ]
    }
   ],
   "source": [
    "%run get_score.py"
   ]
  },
  {
   "cell_type": "code",
   "execution_count": 6,
   "metadata": {},
   "outputs": [
    {
     "name": "stdout",
     "output_type": "stream",
     "text": [
      "Writing list_index.py\n"
     ]
    }
   ],
   "source": [
    "%%writefile list_index.py\n",
    "\n",
    "def PrintSomeNumberInNumlist0to10():\n",
    "    num = [x for x in range(0, 11)]\n",
    "\n",
    "    while True:\n",
    "        try:\n",
    "            index = int(input(\"0부터 10까지 순서대로 들어있는 num 리스트가 있습니다. 인덱스를 입력하시면 해당 숫자를 출력합니다 :\"))\n",
    "            print (num[index])\n",
    "        except IndexError:\n",
    "            print(\"-1\")\n",
    "        except KeyboardInterrupt:\n",
    "            print(\"프로그램을 종료합니다.\")\n",
    "            break\n",
    "        except ValueError:\n",
    "            print(\"프로그램을 종료합니다.\")\n",
    "            break\n",
    "            \n",
    "if __name__ == \"__main__\":\n",
    "    PrintSomeNumberInNumlist0to10()"
   ]
  },
  {
   "cell_type": "code",
   "execution_count": 1,
   "metadata": {},
   "outputs": [
    {
     "name": "stdout",
     "output_type": "stream",
     "text": [
      "0부터 10까지 순서대로 들어있는 num 리스트가 있습니다. 인덱스를 입력하시면 해당 숫자를 출력합니다 :0\n",
      "0\n",
      "0부터 10까지 순서대로 들어있는 num 리스트가 있습니다. 인덱스를 입력하시면 해당 숫자를 출력합니다 :10\n",
      "10\n",
      "0부터 10까지 순서대로 들어있는 num 리스트가 있습니다. 인덱스를 입력하시면 해당 숫자를 출력합니다 :11\n",
      "-1\n",
      "0부터 10까지 순서대로 들어있는 num 리스트가 있습니다. 인덱스를 입력하시면 해당 숫자를 출력합니다 :Ctrl+C\n",
      "프로그램을 종료합니다.\n"
     ]
    }
   ],
   "source": [
    "%run list_index.py"
   ]
  }
 ],
 "metadata": {
  "kernelspec": {
   "display_name": "Python 3",
   "language": "python",
   "name": "python3"
  },
  "language_info": {
   "codemirror_mode": {
    "name": "ipython",
    "version": 3
   },
   "file_extension": ".py",
   "mimetype": "text/x-python",
   "name": "python",
   "nbconvert_exporter": "python",
   "pygments_lexer": "ipython3",
   "version": "3.5.4"
  }
 },
 "nbformat": 4,
 "nbformat_minor": 4
}
