{
 "cells": [
  {
   "cell_type": "markdown",
   "metadata": {},
   "source": [
    "# 1. 파이썬을 이용하여 자신의 운영체제의 종류를 구하시오"
   ]
  },
  {
   "cell_type": "code",
   "execution_count": 45,
   "metadata": {},
   "outputs": [
    {
     "name": "stdout",
     "output_type": "stream",
     "text": [
      "운영체제의 종류는 nt 입니다.\n"
     ]
    }
   ],
   "source": [
    "import os\n",
    "print(\"운영체제의 종류는\", os.name, \"입니다.\")"
   ]
  },
  {
   "cell_type": "markdown",
   "metadata": {},
   "source": [
    "# 2. 윤년 요일 구하기 프로그램을 수정하여, 연, 월, 일을 명령행 인자로(command line arguments)의 형채로 받아들이도록 재작성하시오."
   ]
  },
  {
   "cell_type": "code",
   "execution_count": 38,
   "metadata": {},
   "outputs": [
    {
     "name": "stdout",
     "output_type": "stream",
     "text": [
      "Overwriting leapArgv.py\n"
     ]
    }
   ],
   "source": [
    "%%writefile leapArgv.py\n",
    "\n",
    "def is_leap(year):\n",
    "    check = False\n",
    "    if year % 4 == 0:\n",
    "        if year % 100 == 0:\n",
    "            if year % 400 == 0:\n",
    "                check = True\n",
    "            else:\n",
    "                pass\n",
    "        else:\n",
    "            check = True\n",
    "\n",
    "    return check\n",
    "\n",
    "def countleap_till_lastyear(thisyear):\n",
    "    # 입력한 년도의 직전년도까지 있었던 윤년의 개수를 구한다.\n",
    "    count = 0\n",
    "    for i in range(0, thisyear, 4):\n",
    "        if i == 0:\n",
    "            pass\n",
    "        else:\n",
    "            if i % 100 == 0:\n",
    "                if i % 400 == 0:\n",
    "                    count += 1\n",
    "                else:\n",
    "                    pass\n",
    "            else:\n",
    "                count += 1    \n",
    "\n",
    "    return count\n",
    "\n",
    "def numofdays_thisyear(year, month, day):\n",
    "    # 입력년도의 1월1일부터 입력한 날짜까지의 day 개수를 구한다.\n",
    "    dic_month = {1:31, 2:28, 3:31, 4:30, 5:31, 6:30, 7:31, 8:31, 9:30, 10:31, 11:30, 12:31}\n",
    "    count = 0\n",
    "    for i in range(1, month):\n",
    "        count += dic_month[i]\n",
    "    \n",
    "    count = count + day\n",
    "    \n",
    "    if (is_leap(year) == True) and (month >= 3):\n",
    "        count += 1\n",
    "      \n",
    "    return count\n",
    "\n",
    "def get_day_name(thisyear, month, day):    \n",
    "    days = ['일요일', '월요일', '화요일', '수요일', '목요일', '금요일', '토요일']\n",
    "    lastyear = thisyear - 1\n",
    "\n",
    "    days_till_today = lastyear*365 + countleap_till_lastyear(year) + numofdays_thisyear(year, month, day)\n",
    "    day_name = days[days_till_today % 7]\n",
    "    \n",
    "    return day_name\n",
    "\n",
    "import sys\n",
    "if __name__ == \"__main__\":\n",
    "    while True:\n",
    "        try:\n",
    "            year, month, day = int(sys.argv[1]), int(sys.argv[2]), int(sys.argv[3])\n",
    "            day_name = get_day_name(year, month, day)\n",
    "            print(day_name)\n",
    "            if is_leap(year) == True:\n",
    "                print(\"입력하신 %s는 윤년입니다\" % year)\n",
    "            break\n",
    "        except IndexError:\n",
    "            print(\"\\'연 월 일\\'의 명령행 인자를 주어서 실행해주세요. (예시: %run leapArgv.py 2019 10 1)\")\n",
    "            break\n",
    "        except ValueError:\n",
    "            print(\"\\'연 월 일\\'의 명령행 인자를 주어서 실행해주세요. (예시: %run leapArgv.py 2019 10 1)\")\n",
    "            break\n"
   ]
  },
  {
   "cell_type": "code",
   "execution_count": 39,
   "metadata": {
    "scrolled": true
   },
   "outputs": [
    {
     "name": "stdout",
     "output_type": "stream",
     "text": [
      "'연 월 일'의 명령행 인자를 주어서 실행해주세요. (예시: %run leapArgv.py 2019 10 1)\n",
      "일요일\n"
     ]
    }
   ],
   "source": [
    "%run leapArgv.py 3 f\n",
    "%run leapArgv.py 2018 4 15"
   ]
  },
  {
   "cell_type": "markdown",
   "metadata": {},
   "source": [
    "# 3. 다음의 수식을 math 모듈을 이용해서 작성하시오."
   ]
  },
  {
   "cell_type": "code",
   "execution_count": 40,
   "metadata": {},
   "outputs": [
    {
     "name": "stdout",
     "output_type": "stream",
     "text": [
      "-1.6351885780427125e-13\n",
      "2.939601270583009e+48\n",
      "1.0000000000000002\n"
     ]
    }
   ],
   "source": [
    "import math as m\n",
    "\n",
    "print(2000/m.log(20)*m.sin(2*m.pi))\n",
    "print(m.pow(3,100)*m.log(300))\n",
    "print(m.sin(m.radians(45))*m.sqrt(2))"
   ]
  },
  {
   "cell_type": "markdown",
   "metadata": {},
   "source": [
    "# 4. random 모듈을 이용하여 가위, 바위, 보 게임을 만드시오."
   ]
  },
  {
   "cell_type": "code",
   "execution_count": 46,
   "metadata": {},
   "outputs": [
    {
     "name": "stdout",
     "output_type": "stream",
     "text": [
      "Overwriting game.py\n"
     ]
    }
   ],
   "source": [
    "%%writefile game.py\n",
    "\n",
    "import random\n",
    "\n",
    "# 가위, 바위, 보 라는 3가지 종류의 카드를 내는 게임이라고 생각하고, 변수명을 card로 관리하였다.\n",
    "def gen_cards():\n",
    "    cards = {0:'가위', 1:'바위', 2:'보'}\n",
    "    \n",
    "    # 플레이어의 카드 생성\n",
    "    while True:\n",
    "        card_of_player = input(\"가위, 바위, 보 중 하나를 선택하시오: \")\n",
    "        if card_of_player != '가위' and card_of_player != '바위' and card_of_player != '보':\n",
    "            print(\"다시 입력해주세요.\\n\")\n",
    "        else:\n",
    "            print(\"플레이어:\", card_of_player)\n",
    "            break;\n",
    "    \n",
    "    # 컴퓨터의 카드 생성\n",
    "    index = random.randint(0,2)\n",
    "    card_of_computer = cards[index]\n",
    "    print(\"컴퓨터:\", card_of_computer)\n",
    "    \n",
    "    return card_of_player, card_of_computer\n",
    "\n",
    "def game(card_of_player, card_of_computer):\n",
    "    if ((card_of_player, card_of_computer) == ('가위', '보')) or ((card_of_player, card_of_computer) \n",
    "        == ('바위','가위')) or ((card_of_player, card_of_computer) == ('보', '바위')):  # 플레이어 win\n",
    "        print(\"당신이 이겼습니다.\\n\")\n",
    "    elif ((card_of_player, card_of_computer) == ('가위', '바위')) or ((card_of_player, card_of_computer) \n",
    "        == ('바위', '보')) or ((card_of_player, card_of_computer) == ('보', '가위')):    # 컴퓨터 win\n",
    "        print(\"컴퓨터가 이겼습니다.\\n\")\n",
    "    else:\n",
    "        print(\"비겼습니다.\\n\")\n",
    "\n",
    "if __name__==\"__main__\":\n",
    "    card_of_player, card_of_computer = gen_cards()\n",
    "    game(card_of_player, card_of_computer)"
   ]
  },
  {
   "cell_type": "code",
   "execution_count": 47,
   "metadata": {},
   "outputs": [
    {
     "name": "stdout",
     "output_type": "stream",
     "text": [
      "가위, 바위, 보 중 하나를 선택하시오: rkaads\n",
      "다시 입력해주세요.\n",
      "\n",
      "가위, 바위, 보 중 하나를 선택하시오: 가위\n",
      "플레이어: 가위\n",
      "컴퓨터: 가위\n",
      "비겼습니다.\n",
      "\n"
     ]
    }
   ],
   "source": [
    "%run game.py"
   ]
  },
  {
   "cell_type": "markdown",
   "metadata": {},
   "source": [
    "# 5. datetime을 이용하여 요일을 구하는 프로그램을 작성하시오."
   ]
  },
  {
   "cell_type": "code",
   "execution_count": 48,
   "metadata": {},
   "outputs": [
    {
     "name": "stdout",
     "output_type": "stream",
     "text": [
      "Overwriting W_2.py\n"
     ]
    }
   ],
   "source": [
    "%%writefile W_2.py\n",
    "\n",
    "import datetime as dt\n",
    "\n",
    "def get_day_name(year, month, day):\n",
    "    daynames = ['월요일', '화요일', '수요일', '목요일', '금요일', '토요일', '일요일']\n",
    "    dayname_ind = dt.datetime(year, month, day).weekday()\n",
    "    print(daynames[dayname_ind])\n",
    "\n",
    "import sys\n",
    "if __name__ == \"__main__\":\n",
    "    while True:\n",
    "        try:\n",
    "            year, month, day = int(sys.argv[1]), int(sys.argv[2]), int(sys.argv[3])\n",
    "            day_name = get_day_name(year, month, day)\n",
    "            break\n",
    "        except IndexError:\n",
    "            print(\"\\'연 월 일\\'의 명령행 인자를 주어서 실행해주세요. (예시: %run W_2.py 2019 10 1)\")\n",
    "            break\n",
    "        except ValueError:\n",
    "            print(\"\\'연 월 일\\'의 명령행 인자를 주어서 실행해주세요. (예시: %run W_2.py 2019 10 1)\")\n",
    "            break"
   ]
  },
  {
   "cell_type": "code",
   "execution_count": 49,
   "metadata": {},
   "outputs": [
    {
     "name": "stdout",
     "output_type": "stream",
     "text": [
      "'연 월 일'의 명령행 인자를 주어서 실행해주세요. (예시: %run W_2.py 2019 10 1)\n",
      "화요일\n",
      "월요일\n"
     ]
    }
   ],
   "source": [
    "%run W_2.py 2019 10 ㅁㅇㄴㄹ\n",
    "%run W_2.py 2019 10 1\n",
    "%run W_2.py 2019 10 14"
   ]
  }
 ],
 "metadata": {
  "kernelspec": {
   "display_name": "Python 3",
   "language": "python",
   "name": "python3"
  },
  "language_info": {
   "codemirror_mode": {
    "name": "ipython",
    "version": 3
   },
   "file_extension": ".py",
   "mimetype": "text/x-python",
   "name": "python",
   "nbconvert_exporter": "python",
   "pygments_lexer": "ipython3",
   "version": "3.5.4"
  }
 },
 "nbformat": 4,
 "nbformat_minor": 4
}
